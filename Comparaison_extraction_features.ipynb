{
 "cells": [
  {
   "cell_type": "code",
   "execution_count": 1,
   "metadata": {},
   "outputs": [],
   "source": [
    "import h5py\n",
    "import numpy as np\n",
    "import pandas as pd\n",
    "import os\n",
    "from math import *\n",
    "\n",
    "import gc\n",
    "import time\n",
    "\n",
    "import matplotlib.pyplot as plt\n",
    "import matplotlib.cm as cm \n",
    "import seaborn as sns\n",
    "\n",
    "import scipy as sci\n",
    "from scipy import signal\n",
    "from scipy.signal import blackman\n",
    "\n",
    "import sklearn as sk\n",
    "from sklearn.preprocessing import StandardScaler\n",
    "from sklearn.decomposition import PCA\n",
    "#import pyeeg\n",
    "from sklearn.metrics import confusion_matrix\n",
    "from sklearn.ensemble import RandomForestClassifier\n",
    "\n",
    "from sklearn.model_selection import train_test_split\n",
    "#from lightgbm import LGBMClassifier\n",
    "\n",
    "#import mne"
   ]
  },
  {
   "cell_type": "code",
   "execution_count": 2,
   "metadata": {},
   "outputs": [],
   "source": [
    "os.chdir('C:/Users/Thibault/Desktop/Projet Machine Learning')"
   ]
  },
  {
   "cell_type": "markdown",
   "metadata": {},
   "source": [
    "### load data"
   ]
  },
  {
   "cell_type": "code",
   "execution_count": 3,
   "metadata": {},
   "outputs": [],
   "source": [
    "def loading():\n",
    "    f_train = h5py.File('Data/train.h5','r')\n",
    "    train = pd.read_csv('Data/train_y.csv',delimiter =';')\n",
    "    #f_test = h5py.File('test.h5','r') \n",
    "    return f_train, train\n",
    "f_train, Y = loading()\n",
    "key = list(f_train.keys())\n",
    "\n",
    "def split(dataset):\n",
    "    #Accelerometer\n",
    "    Acc = []\n",
    "    Acc.append(dataset['accelerometer_x'].value)\n",
    "    Acc.append(dataset['accelerometer_y'].value)\n",
    "    Acc.append(dataset['accelerometer_z'].value)\n",
    "    #Heart beat\n",
    "    Hea = []\n",
    "    Hea.append(dataset['pulse_oximeter_infrared'].value)\n",
    "    #EEGs\n",
    "    Eeg = []\n",
    "    for i in range(1,8):\n",
    "        Eeg.append(dataset['eeg_'+str(i)].value)\n",
    "    return Acc, Hea, Eeg\n",
    "\n",
    "Acc, Hea, Eeg = split(f_train)\n",
    "Eeg = np.array(Eeg)\n",
    "Eeg = Eeg.reshape(38289,7,1500)\n",
    "\n",
    "Y = Y.values.reshape((-1,))\n",
    "Y = [int(x.split(',')[1]) for x in Y]"
   ]
  },
  {
   "cell_type": "markdown",
   "metadata": {},
   "source": [
    "### Features function"
   ]
  },
  {
   "cell_type": "code",
   "execution_count": 4,
   "metadata": {},
   "outputs": [],
   "source": [
    "def vc(eeg):\n",
    "    vcount = np.zeros(41)\n",
    "    for elt in eeg:\n",
    "        if elt<-200:\n",
    "            vcount[0]+=1\n",
    "        elif elt>=200:\n",
    "            vcount[40]+=1\n",
    "        else:\n",
    "            vcount[floor(elt/10)+20]+=1\n",
    "    return vcount\n",
    "\n",
    "def ent(data):\n",
    "    vcount = vc(data)\n",
    "    \n",
    "    p_data= vcount/len(data) # calculates the probabilities\n",
    "    entropy=sci.stats.entropy(p_data)  # input probabilities to get the entropy \n",
    "    return entropy\n",
    "\n",
    "            \n",
    "def maximum_minimum_distance(data, f_ech=50, Lambda=100):\n",
    "    distance = 0\n",
    "    nbre_fenetre = len(data) // Lambda\n",
    "    for i in range(nbre_fenetre):\n",
    "        indice_max = np.argmax(data[i * 100:(i + 1) * 100 - 1]) + i * 100\n",
    "        indice_min = np.argmin(data[i * 100:(i + 1) * 100 - 1]) + i * 100\n",
    "        distance += np.sqrt(\n",
    "            (data[indice_max] - data[indice_min]) ** 2 + ((indice_max - indice_min) / f_ech) ** 2)\n",
    "    return distance"
   ]
  },
  {
   "cell_type": "markdown",
   "metadata": {},
   "source": [
    "### Extract numpy"
   ]
  },
  {
   "cell_type": "code",
   "execution_count": 5,
   "metadata": {},
   "outputs": [],
   "source": [
    "def extract_features_np_perf(n):\n",
    "    data = Eeg[:n,:,:]\n",
    "    debut = time.time()\n",
    "    m = data.mean(axis=2).reshape(n,7,1)\n",
    "    std = data.std(axis=2).reshape(n,7,1)\n",
    "    entropy = np.zeros((n,7,1))\n",
    "    dist = np.zeros((n,7,1))\n",
    "    for i in range(n):\n",
    "        for j in range(7):\n",
    "            entropy[i,j,0]=ent(data[i,j,:])\n",
    "            dist[i,j,0]=maximum_minimum_distance(data[i,j,:])\n",
    "    np.concatenate([m,std,entropy,dist],axis=2).reshape(n,-1)\n",
    "    return time.time()-debut"
   ]
  },
  {
   "cell_type": "markdown",
   "metadata": {},
   "source": [
    "### Extract Pyspark"
   ]
  },
  {
   "cell_type": "code",
   "execution_count": 6,
   "metadata": {},
   "outputs": [],
   "source": [
    "import findspark\n",
    "\n",
    "findspark.init()\n",
    "\n",
    "from pyspark.sql.types import *\n",
    "from pyspark.sql.functions import udf\n",
    "\n",
    "schema = StructType([StructField(\"eeg1\", ArrayType(FloatType())),\\\n",
    "                     StructField(\"eeg2\", ArrayType(FloatType())),\\\n",
    "                     StructField(\"eeg3\", ArrayType(FloatType())),\\\n",
    "                     StructField(\"eeg4\", ArrayType(FloatType())),\\\n",
    "                     StructField(\"eeg5\", ArrayType(FloatType())),\\\n",
    "                     StructField(\"eeg6\", ArrayType(FloatType())),\\\n",
    "                     StructField(\"eeg7\", ArrayType(FloatType()))])\n",
    "\n",
    "get_mean_udf = udf(lambda x : np.mean(np.array(x)).tolist(),returnType=FloatType())\n",
    "get_std_udf = udf(lambda x: np.std(np.array(x)).tolist(), returnType=FloatType())\n",
    "get_entropy_udf= udf(lambda x: ent(x).tolist(), returnType=FloatType())\n",
    "get_minmax_udf = udf(lambda x: maximum_minimum_distance(x).tolist(), returnType = FloatType())"
   ]
  },
  {
   "cell_type": "code",
   "execution_count": 7,
   "metadata": {},
   "outputs": [],
   "source": [
    "channels = ['eeg1','eeg2','eeg3','eeg4','eeg5','eeg6','eeg7']\n",
    "features = ['mean','std','entropy','minmax']\n",
    "all_features = []\n",
    "\n",
    "for feature in features:\n",
    "    for channel in channels:\n",
    "        all_features.append(feature+'_'+channel)\n",
    "feature_func = {'mean': get_mean_udf, 'std': get_std_udf,'entropy': get_entropy_udf,'minmax':get_minmax_udf}\n",
    "\n",
    "\n",
    "def extract_features_pyspark_perf(n):\n",
    "    L = [[Eeg[i,j,:].tolist() for j in range(7)] for i in range(n)]\n",
    "    sdf = sqlCtx.createDataFrame(L,schema=schema)\n",
    "    debut = time.time()\n",
    "    for feature in features:\n",
    "        udf_func = feature_func[feature]\n",
    "        for channel in channels:\n",
    "            sdf = sdf.withColumn(feature+'_'+channel, udf_func(channel))\n",
    "    rdd = sdf.select(all_features).rdd\n",
    "    rdd.collect()\n",
    "    return time.time()-debut     "
   ]
  },
  {
   "cell_type": "markdown",
   "metadata": {},
   "source": [
    "### Comparaison"
   ]
  },
  {
   "cell_type": "code",
   "execution_count": 8,
   "metadata": {},
   "outputs": [],
   "source": [
    "n_range = np.linspace(100,4000,num=8).astype(int)"
   ]
  },
  {
   "cell_type": "code",
   "execution_count": 9,
   "metadata": {},
   "outputs": [
    {
     "name": "stdout",
     "output_type": "stream",
     "text": [
      "Avec spark:\n",
      "\t100 ok\n",
      "\t657 ok\n",
      "\t1214 ok\n",
      "\t1771 ok\n",
      "\t2328 ok\n",
      "\t2885 ok\n",
      "\t3442 ok\n",
      "\t4000 ok\n",
      "Avec numpy:\n",
      "\t100 done\n",
      "\t657 done\n",
      "\t1214 done\n",
      "\t1771 done\n",
      "\t2328 done\n",
      "\t2885 done\n",
      "\t3442 done\n",
      "\t4000 done\n"
     ]
    }
   ],
   "source": [
    "import pyspark\n",
    "from pyspark.sql import SQLContext\n",
    "conf = pyspark.SparkConf().setAll([('spark.executor.memory', '8g'), \n",
    "                                   ('spark.executor.cores', '8'), \n",
    "                                   ('spark.cores.max', '8'), \n",
    "                                   ('spark.driver.memory','8g')])\n",
    "sc=pyspark.SparkContext(conf = conf)\n",
    "sqlCtx = SQLContext(sc)\n",
    "\n",
    "res_spark = []\n",
    "res_np = []\n",
    "print('Avec spark:')\n",
    "for n in n_range:\n",
    "    res_spark.append(extract_features_pyspark_perf(n))\n",
    "    print('\\t'+str(n)+' ok')\n",
    "\n",
    "print('Avec numpy:')\n",
    "for n in n_range:\n",
    "    res_np.append(extract_features_np_perf(n))\n",
    "    print('\\t'+str(n)+' done')\n"
   ]
  },
  {
   "cell_type": "code",
   "execution_count": 11,
   "metadata": {},
   "outputs": [
    {
     "data": {
      "image/png": "[encoded data removed]",
      "text/plain": [
       "<Figure size 432x288 with 1 Axes>"
      ]
     },
     "metadata": {
      "needs_background": "light"
     },
     "output_type": "display_data"
    }
   ],
   "source": [
    "plt.plot(n_range,res_np,label='numpy')\n",
    "plt.plot(n_range,res_spark,label='spark')\n",
    "plt.xlabel('nombre d\\'échantillon')\n",
    "plt.ylabel('temps')\n",
    "plt.legend()\n",
    "plt.title('Performance de l\\'extraction de features')\n",
    "plt.show()"
   ]
  },
  {
   "cell_type": "markdown",
   "metadata": {},
   "source": []
  },
  {
   "cell_type": "markdown",
   "metadata": {},
   "source": [
    "## Classification"
   ]
  },
  {
   "cell_type": "code",
   "execution_count": 27,
   "metadata": {},
   "outputs": [],
   "source": [
    "from sklearn.svm import SVC\n",
    "from sklearn.preprocessing import StandardScaler\n",
    "from sklearn.pipeline import Pipeline\n",
    "from sklearn.decomposition import PCA\n",
    "from sklearn.metrics import f1_score\n",
    "\n",
    "def extract_features_pyspark(data):\n",
    "    L = [[data[i,j,:].tolist() for j in range(7)] for i in range(data.shape[0])]\n",
    "    sdf = sqlCtx.createDataFrame(L,schema=schema)\n",
    "    debut = time.time()\n",
    "    for feature in features:\n",
    "        udf_func = feature_func[feature]\n",
    "        for channel in channels:\n",
    "            sdf = sdf.withColumn(feature+'_'+channel, udf_func(channel))\n",
    "    rdd = sdf.select(all_features).rdd\n",
    "    return rdd.collect()"
   ]
  },
  {
   "cell_type": "code",
   "execution_count": 9,
   "metadata": {},
   "outputs": [],
   "source": [
    "X_train, Y_train = Eeg[:5000,:,:], Y[:5000]\n",
    "X_test, Y_test = Eeg[5000:7000,:,:], Y[5000:7000]"
   ]
  },
  {
   "cell_type": "markdown",
   "metadata": {},
   "source": [
    "Extraction avec pyspark"
   ]
  },
  {
   "cell_type": "code",
   "execution_count": 10,
   "metadata": {},
   "outputs": [],
   "source": [
    "import pyspark\n",
    "from pyspark.sql import SQLContext\n",
    "conf = pyspark.SparkConf().setAll([('spark.executor.memory', '8g'), \n",
    "                                   ('spark.executor.cores', '8'), \n",
    "                                   ('spark.cores.max', '8'), \n",
    "                                   ('spark.driver.memory','8g')])\n",
    "sc=pyspark.SparkContext(conf = conf)\n",
    "sqlCtx = SQLContext(sc)"
   ]
  },
  {
   "cell_type": "code",
   "execution_count": null,
   "metadata": {},
   "outputs": [],
   "source": [
    "X_train_features = extract_features_pyspark(X_train)\n",
    "X_test_features = extract_features_pyspark(X_test)"
   ]
  },
  {
   "cell_type": "markdown",
   "metadata": {},
   "source": [
    "Transformation en numpy array"
   ]
  },
  {
   "cell_type": "code",
   "execution_count": 19,
   "metadata": {},
   "outputs": [],
   "source": [
    "X_train_features = np.concatenate([np.array(X_train_features[i]).reshape((1,28))\\\n",
    "                                   for i in range(len(X_train_features))],axis=0)\n",
    "X_test_features = np.concatenate([np.array(X_test_features[i]).reshape((1,28))\\\n",
    "                                   for i in range(len(X_test_features))],axis=0)"
   ]
  },
  {
   "cell_type": "code",
   "execution_count": 64,
   "metadata": {},
   "outputs": [
    {
     "data": {
      "text/plain": [
       "Pipeline(memory=None,\n",
       "     steps=[('scale', StandardScaler(copy=True, with_mean=True, with_std=True)), ('pca', PCA(copy=True, iterated_power='auto', n_components=8, random_state=None,\n",
       "  svd_solver='auto', tol=0.0, whiten=False)), ('svm', SVC(C=500, cache_size=200, class_weight='balanced', coef0=0.0,\n",
       "  decision_function_shape='ovr', degree=3, gamma=10, kernel='rbf',\n",
       "  max_iter=-1, probability=False, random_state=None, shrinking=True,\n",
       "  tol=0.001, verbose=False))])"
      ]
     },
     "execution_count": 64,
     "metadata": {},
     "output_type": "execute_result"
    }
   ],
   "source": [
    "pipeline = Pipeline([('scale',StandardScaler()),('pca',PCA(n_components=8)),('svm',SVC(C=500, kernel='rbf'\\\n",
    "                                                                                       ,gamma=10,class_weight='balanced'))])\n",
    "pipeline.fit(X_train_features,Y_train)"
   ]
  },
  {
   "cell_type": "code",
   "execution_count": 66,
   "metadata": {},
   "outputs": [
    {
     "name": "stdout",
     "output_type": "stream",
     "text": [
      "0.278\n"
     ]
    }
   ],
   "source": [
    "Y_pred = pipeline.predict(X_test_features)\n",
    "print(f1_score(Y_test,Y_pred,average='micro'))"
   ]
  }
 ],
 "metadata": {
  "kernelspec": {
   "display_name": "Python 3",
   "language": "python",
   "name": "python3"
  },
  "language_info": {
   "codemirror_mode": {
    "name": "ipython",
    "version": 3
   },
   "file_extension": ".py",
   "mimetype": "text/x-python",
   "name": "python",
   "nbconvert_exporter": "python",
   "pygments_lexer": "ipython3",
   "version": "3.7.1"
  }
 },
 "nbformat": 4,
 "nbformat_minor": 2
}
